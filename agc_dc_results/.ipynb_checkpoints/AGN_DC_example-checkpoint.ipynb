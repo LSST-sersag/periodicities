{
 "cells": [
  {
   "cell_type": "code",
   "execution_count": 2,
   "id": "59020401-0517-401f-9c5e-8a35fa255ff5",
   "metadata": {},
   "outputs": [
    {
     "data": {
      "text/html": [
       "<div>\n",
       "<style scoped>\n",
       "    .dataframe tbody tr th:only-of-type {\n",
       "        vertical-align: middle;\n",
       "    }\n",
       "\n",
       "    .dataframe tbody tr th {\n",
       "        vertical-align: top;\n",
       "    }\n",
       "\n",
       "    .dataframe thead th {\n",
       "        text-align: right;\n",
       "    }\n",
       "</style>\n",
       "<table border=\"1\" class=\"dataframe\">\n",
       "  <thead>\n",
       "    <tr style=\"text-align: right;\">\n",
       "      <th></th>\n",
       "      <th>ra</th>\n",
       "      <th>dec</th>\n",
       "      <th>psPm_ra</th>\n",
       "      <th>psPm_dec</th>\n",
       "      <th>psParallax</th>\n",
       "      <th>psFlux_u</th>\n",
       "      <th>psFlux_g</th>\n",
       "      <th>psFlux_r</th>\n",
       "      <th>psFlux_i</th>\n",
       "      <th>psFlux_z</th>\n",
       "      <th>...</th>\n",
       "      <th>lcNonPeriodic[27]_g</th>\n",
       "      <th>lcNonPeriodic[27]_r</th>\n",
       "      <th>lcNonPeriodic[27]_i</th>\n",
       "      <th>lcNonPeriodic[27]_z</th>\n",
       "      <th>lcNonPeriodic[28]_u</th>\n",
       "      <th>lcNonPeriodic[28]_g</th>\n",
       "      <th>lcNonPeriodic[28]_r</th>\n",
       "      <th>lcNonPeriodic[28]_i</th>\n",
       "      <th>lcNonPeriodic[28]_z</th>\n",
       "      <th>ebv</th>\n",
       "    </tr>\n",
       "    <tr>\n",
       "      <th>objectId</th>\n",
       "      <th></th>\n",
       "      <th></th>\n",
       "      <th></th>\n",
       "      <th></th>\n",
       "      <th></th>\n",
       "      <th></th>\n",
       "      <th></th>\n",
       "      <th></th>\n",
       "      <th></th>\n",
       "      <th></th>\n",
       "      <th></th>\n",
       "      <th></th>\n",
       "      <th></th>\n",
       "      <th></th>\n",
       "      <th></th>\n",
       "      <th></th>\n",
       "      <th></th>\n",
       "      <th></th>\n",
       "      <th></th>\n",
       "      <th></th>\n",
       "      <th></th>\n",
       "    </tr>\n",
       "  </thead>\n",
       "  <tbody>\n",
       "    <tr>\n",
       "      <th>0271388</th>\n",
       "      <td>359.99169</td>\n",
       "      <td>0.969968</td>\n",
       "      <td>NaN</td>\n",
       "      <td>NaN</td>\n",
       "      <td>NaN</td>\n",
       "      <td>26160.979422</td>\n",
       "      <td>294519.269238</td>\n",
       "      <td>1.106956e+06</td>\n",
       "      <td>2.057265e+06</td>\n",
       "      <td>2.982015e+06</td>\n",
       "      <td>...</td>\n",
       "      <td>0.032109</td>\n",
       "      <td>0.030674</td>\n",
       "      <td>0.062576</td>\n",
       "      <td>0.324707</td>\n",
       "      <td>8.555394</td>\n",
       "      <td>2.888606</td>\n",
       "      <td>0.961880</td>\n",
       "      <td>1.213456</td>\n",
       "      <td>0.034117</td>\n",
       "      <td>0.023638</td>\n",
       "    </tr>\n",
       "    <tr>\n",
       "      <th>0271389</th>\n",
       "      <td>359.98092</td>\n",
       "      <td>0.652865</td>\n",
       "      <td>NaN</td>\n",
       "      <td>NaN</td>\n",
       "      <td>NaN</td>\n",
       "      <td>48849.324901</td>\n",
       "      <td>77854.298779</td>\n",
       "      <td>7.187044e+04</td>\n",
       "      <td>6.333212e+04</td>\n",
       "      <td>5.460789e+04</td>\n",
       "      <td>...</td>\n",
       "      <td>0.242187</td>\n",
       "      <td>0.034497</td>\n",
       "      <td>0.210657</td>\n",
       "      <td>0.145120</td>\n",
       "      <td>4.915713</td>\n",
       "      <td>0.018316</td>\n",
       "      <td>1.949530</td>\n",
       "      <td>0.051217</td>\n",
       "      <td>0.686231</td>\n",
       "      <td>0.027264</td>\n",
       "    </tr>\n",
       "    <tr>\n",
       "      <th>0271390</th>\n",
       "      <td>359.97467</td>\n",
       "      <td>-1.066557</td>\n",
       "      <td>14.123035</td>\n",
       "      <td>-6.600603</td>\n",
       "      <td>-0.013308</td>\n",
       "      <td>58226.877642</td>\n",
       "      <td>196208.333415</td>\n",
       "      <td>3.151411e+05</td>\n",
       "      <td>3.634721e+05</td>\n",
       "      <td>3.904259e+05</td>\n",
       "      <td>...</td>\n",
       "      <td>0.018121</td>\n",
       "      <td>0.008570</td>\n",
       "      <td>0.057029</td>\n",
       "      <td>0.042912</td>\n",
       "      <td>0.975324</td>\n",
       "      <td>5.251484</td>\n",
       "      <td>6.415285</td>\n",
       "      <td>0.447885</td>\n",
       "      <td>1.378181</td>\n",
       "      <td>0.039193</td>\n",
       "    </tr>\n",
       "  </tbody>\n",
       "</table>\n",
       "<p>3 rows × 384 columns</p>\n",
       "</div>"
      ],
      "text/plain": [
       "                 ra       dec    psPm_ra  psPm_dec  psParallax      psFlux_u  \\\n",
       "objectId                                                                       \n",
       "0271388   359.99169  0.969968        NaN       NaN         NaN  26160.979422   \n",
       "0271389   359.98092  0.652865        NaN       NaN         NaN  48849.324901   \n",
       "0271390   359.97467 -1.066557  14.123035 -6.600603   -0.013308  58226.877642   \n",
       "\n",
       "               psFlux_g      psFlux_r      psFlux_i      psFlux_z  ...  \\\n",
       "objectId                                                           ...   \n",
       "0271388   294519.269238  1.106956e+06  2.057265e+06  2.982015e+06  ...   \n",
       "0271389    77854.298779  7.187044e+04  6.333212e+04  5.460789e+04  ...   \n",
       "0271390   196208.333415  3.151411e+05  3.634721e+05  3.904259e+05  ...   \n",
       "\n",
       "          lcNonPeriodic[27]_g  lcNonPeriodic[27]_r  lcNonPeriodic[27]_i  \\\n",
       "objectId                                                                  \n",
       "0271388              0.032109             0.030674             0.062576   \n",
       "0271389              0.242187             0.034497             0.210657   \n",
       "0271390              0.018121             0.008570             0.057029   \n",
       "\n",
       "          lcNonPeriodic[27]_z  lcNonPeriodic[28]_u  lcNonPeriodic[28]_g  \\\n",
       "objectId                                                                  \n",
       "0271388              0.324707             8.555394             2.888606   \n",
       "0271389              0.145120             4.915713             0.018316   \n",
       "0271390              0.042912             0.975324             5.251484   \n",
       "\n",
       "          lcNonPeriodic[28]_r  lcNonPeriodic[28]_i  lcNonPeriodic[28]_z  \\\n",
       "objectId                                                                  \n",
       "0271388              0.961880             1.213456             0.034117   \n",
       "0271389              1.949530             0.051217             0.686231   \n",
       "0271390              6.415285             0.447885             1.378181   \n",
       "\n",
       "               ebv  \n",
       "objectId            \n",
       "0271388   0.023638  \n",
       "0271389   0.027264  \n",
       "0271390   0.039193  \n",
       "\n",
       "[3 rows x 384 columns]"
      ]
     },
     "execution_count": 2,
     "metadata": {},
     "output_type": "execute_result"
    }
   ],
   "source": [
    "import json\n",
    "import pandas as pd\n",
    "import numpy as np\n",
    "from sqlalchemy.engine import URL\n",
    "from sqlalchemy.engine import create_engine\n",
    "import matplotlib.pyplot as plt\n",
    "from scipy.optimize import curve_fit\n",
    "from scipy.optimize import OptimizeWarning\n",
    "from dateutil.relativedelta import relativedelta\n",
    "import warnings\n",
    "from itertools import groupby\n",
    "\n",
    "fs_df  = pd.read_parquet('/home/viktor/Downloads/Forced.parquet')\n",
    "object_df=pd.read_parquet(\"/home/viktor/Downloads/ObjectTable.parquet\")\n",
    "lc_cols = [col for col in object_df.columns if 'Periodic' in col]\n",
    "td_objects = object_df.dropna(subset=lc_cols, how='all').copy()\n",
    "td_objects.head(3)"
   ]
  },
  {
   "cell_type": "code",
   "execution_count": 10,
   "id": "36e27d95-b0cc-4a95-95a6-3322eea2e139",
   "metadata": {},
   "outputs": [],
   "source": [
    "setindexqso=td_objects[(td_objects[\"class\"].eq(\"Qso\"))].index\n",
    "set1=setindexqso[43]"
   ]
  },
  {
   "cell_type": "code",
   "execution_count": 11,
   "id": "9f7eeb90-d376-4da5-b9c7-b2e7c5ff9e5a",
   "metadata": {},
   "outputs": [],
   "source": [
    "import sys\n",
    "# Import from local diroctory, the repository will be available on PIP as a final version\n",
    "sys.path.insert(0, '/home/viktor/Documents/LSST/MAF/inkind/baseperiodicity')\n",
    "from periodicity import *"
   ]
  },
  {
   "cell_type": "code",
   "execution_count": 12,
   "id": "55ae3941-9f70-4977-92e4-6955df11a2ed",
   "metadata": {},
   "outputs": [],
   "source": [
    "\n",
    "fs_gp = fs_df.groupby('objectId')\n",
    "demo_lc = fs_gp.get_group(set1)\n",
    "demo_lc_bands = {}\n",
    "for i, b in enumerate('ugriz'):\n",
    "    d0=demo_lc[demo_lc['filter'] == i].sort_values(by=['mjd'])\n",
    "    demo_lc_bands[b] = d0\n",
    "u_fil = demo_lc_bands['u']\n",
    "tt = u_fil['mjd'].to_numpy()\n",
    "yy = u_fil['psMag'].to_numpy()"
   ]
  },
  {
   "cell_type": "code",
   "execution_count": 13,
   "id": "829bbad6-4d01-4b3b-98a2-f2bc7a67140c",
   "metadata": {},
   "outputs": [
    {
     "name": "stdout",
     "output_type": "stream",
     "text": [
      "*** Starting Weighted Wavelet Z-transform ***\n",
      "\n",
      "Pseudo sample frequency (median) is  0.505\n",
      "largest tau window is  33.101\n"
     ]
    },
    {
     "name": "stderr",
     "output_type": "stream",
     "text": [
      "/home/viktor/anaconda3/envs/rubin/lib/python3.9/site-packages/libwwz/wwz.py:261: RuntimeWarning: overflow encountered in double_scalars\n",
      "  dpowz: float = (dneff - 3.0) * dpower / (2.0 * (dvarw - dpower))  # WWZ eq. 5-12\n",
      "/home/viktor/anaconda3/envs/rubin/lib/python3.9/site-packages/libwwz/wwz.py:234: RuntimeWarning: overflow encountered in double_scalars\n",
      "  dvarw = dvarw / dmat[0, 0]\n",
      "/home/viktor/anaconda3/envs/rubin/lib/python3.9/site-packages/libwwz/wwz.py:234: RuntimeWarning: overflow encountered in double_scalars\n",
      "  dvarw = dvarw / dmat[0, 0]\n",
      "/home/viktor/anaconda3/envs/rubin/lib/python3.9/site-packages/libwwz/wwz.py:234: RuntimeWarning: overflow encountered in double_scalars\n",
      "  dvarw = dvarw / dmat[0, 0]\n"
     ]
    },
    {
     "name": "stdout",
     "output_type": "stream",
     "text": [
      "6.43 seconds has passed to complete Weighted Wavelet Z-transform \n",
      "\n"
     ]
    }
   ],
   "source": [
    "wwz_matrx, corr, extent = hybrid2d(tt, yy, 80, 800)"
   ]
  },
  {
   "cell_type": "code",
   "execution_count": 14,
   "id": "f1d738f1-303c-4d6d-94d7-e38cb3d267f9",
   "metadata": {},
   "outputs": [
    {
     "data": {
      "image/png": "[encoded data removed]",
      "text/plain": [
       "<Figure size 360x288 with 2 Axes>"
      ]
     },
     "metadata": {
      "needs_background": "light"
     },
     "output_type": "display_data"
    }
   ],
   "source": [
    "plt_freq_heatmap(corr, extent)"
   ]
  },
  {
   "cell_type": "code",
   "execution_count": 17,
   "id": "58d65186-f28e-4736-910d-7bdcefeda1b0",
   "metadata": {},
   "outputs": [
    {
     "data": {
      "image/png": "[encoded data removed]",
      "text/plain": [
       "<Figure size 432x288 with 1 Axes>"
      ]
     },
     "metadata": {
      "needs_background": "light"
     },
     "output_type": "display_data"
    }
   ],
   "source": [
    "r_periods, up, low = periods (corr, 800, plot=True)"
   ]
  },
  {
   "cell_type": "code",
   "execution_count": null,
   "id": "1acfc0c6-347a-4744-869e-ba1e4aebdda4",
   "metadata": {},
   "outputs": [],
   "source": []
  }
 ],
 "metadata": {
  "kernelspec": {
   "display_name": "Python (rubin_sim)",
   "language": "python",
   "name": "rubin"
  },
  "language_info": {
   "codemirror_mode": {
    "name": "ipython",
    "version": 3
   },
   "file_extension": ".py",
   "mimetype": "text/x-python",
   "name": "python",
   "nbconvert_exporter": "python",
   "pygments_lexer": "ipython3",
   "version": "3.9.13"
  }
 },
 "nbformat": 4,
 "nbformat_minor": 5
}
