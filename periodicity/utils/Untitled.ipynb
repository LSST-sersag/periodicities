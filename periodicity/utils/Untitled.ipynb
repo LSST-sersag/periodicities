{
 "cells": [
  {
   "cell_type": "code",
   "execution_count": 1,
   "id": "fa897414-1441-4122-8fa5-6dabf423e1d4",
   "metadata": {},
   "outputs": [
    {
     "data": {
      "application/json": {
       "cell": {
        "!": "OSMagics",
        "HTML": "Other",
        "SVG": "Other",
        "bash": "Other",
        "capture": "ExecutionMagics",
        "debug": "ExecutionMagics",
        "file": "Other",
        "html": "DisplayMagics",
        "javascript": "DisplayMagics",
        "js": "DisplayMagics",
        "latex": "DisplayMagics",
        "markdown": "DisplayMagics",
        "perl": "Other",
        "prun": "ExecutionMagics",
        "pypy": "Other",
        "python": "Other",
        "python2": "Other",
        "python3": "Other",
        "ruby": "Other",
        "script": "ScriptMagics",
        "sh": "Other",
        "svg": "DisplayMagics",
        "sx": "OSMagics",
        "system": "OSMagics",
        "time": "ExecutionMagics",
        "timeit": "ExecutionMagics",
        "writefile": "OSMagics"
       },
       "line": {
        "alias": "OSMagics",
        "alias_magic": "BasicMagics",
        "autoawait": "AsyncMagics",
        "autocall": "AutoMagics",
        "automagic": "AutoMagics",
        "autosave": "KernelMagics",
        "bookmark": "OSMagics",
        "cat": "Other",
        "cd": "OSMagics",
        "clear": "KernelMagics",
        "colors": "BasicMagics",
        "conda": "PackagingMagics",
        "config": "ConfigMagics",
        "connect_info": "KernelMagics",
        "cp": "Other",
        "debug": "ExecutionMagics",
        "dhist": "OSMagics",
        "dirs": "OSMagics",
        "doctest_mode": "BasicMagics",
        "ed": "Other",
        "edit": "KernelMagics",
        "env": "OSMagics",
        "gui": "BasicMagics",
        "hist": "Other",
        "history": "HistoryMagics",
        "killbgscripts": "ScriptMagics",
        "ldir": "Other",
        "less": "KernelMagics",
        "lf": "Other",
        "lk": "Other",
        "ll": "Other",
        "load": "CodeMagics",
        "load_ext": "ExtensionMagics",
        "loadpy": "CodeMagics",
        "logoff": "LoggingMagics",
        "logon": "LoggingMagics",
        "logstart": "LoggingMagics",
        "logstate": "LoggingMagics",
        "logstop": "LoggingMagics",
        "ls": "Other",
        "lsmagic": "BasicMagics",
        "lx": "Other",
        "macro": "ExecutionMagics",
        "magic": "BasicMagics",
        "man": "KernelMagics",
        "matplotlib": "PylabMagics",
        "mkdir": "Other",
        "more": "KernelMagics",
        "mv": "Other",
        "notebook": "BasicMagics",
        "page": "BasicMagics",
        "pastebin": "CodeMagics",
        "pdb": "ExecutionMagics",
        "pdef": "NamespaceMagics",
        "pdoc": "NamespaceMagics",
        "pfile": "NamespaceMagics",
        "pinfo": "NamespaceMagics",
        "pinfo2": "NamespaceMagics",
        "pip": "PackagingMagics",
        "popd": "OSMagics",
        "pprint": "BasicMagics",
        "precision": "BasicMagics",
        "prun": "ExecutionMagics",
        "psearch": "NamespaceMagics",
        "psource": "NamespaceMagics",
        "pushd": "OSMagics",
        "pwd": "OSMagics",
        "pycat": "OSMagics",
        "pylab": "PylabMagics",
        "qtconsole": "KernelMagics",
        "quickref": "BasicMagics",
        "recall": "HistoryMagics",
        "rehashx": "OSMagics",
        "reload_ext": "ExtensionMagics",
        "rep": "Other",
        "rerun": "HistoryMagics",
        "reset": "NamespaceMagics",
        "reset_selective": "NamespaceMagics",
        "rm": "Other",
        "rmdir": "Other",
        "run": "ExecutionMagics",
        "save": "CodeMagics",
        "sc": "OSMagics",
        "set_env": "OSMagics",
        "store": "StoreMagics",
        "sx": "OSMagics",
        "system": "OSMagics",
        "tb": "ExecutionMagics",
        "time": "ExecutionMagics",
        "timeit": "ExecutionMagics",
        "unalias": "OSMagics",
        "unload_ext": "ExtensionMagics",
        "who": "NamespaceMagics",
        "who_ls": "NamespaceMagics",
        "whos": "NamespaceMagics",
        "xdel": "NamespaceMagics",
        "xmode": "BasicMagics"
       }
      },
      "text/plain": [
       "Available line magics:\n",
       "%alias  %alias_magic  %autoawait  %autocall  %automagic  %autosave  %bookmark  %cat  %cd  %clear  %colors  %conda  %config  %connect_info  %cp  %debug  %dhist  %dirs  %doctest_mode  %ed  %edit  %env  %gui  %hist  %history  %killbgscripts  %ldir  %less  %lf  %lk  %ll  %load  %load_ext  %loadpy  %logoff  %logon  %logstart  %logstate  %logstop  %ls  %lsmagic  %lx  %macro  %magic  %man  %matplotlib  %mkdir  %more  %mv  %notebook  %page  %pastebin  %pdb  %pdef  %pdoc  %pfile  %pinfo  %pinfo2  %pip  %popd  %pprint  %precision  %prun  %psearch  %psource  %pushd  %pwd  %pycat  %pylab  %qtconsole  %quickref  %recall  %rehashx  %reload_ext  %rep  %rerun  %reset  %reset_selective  %rm  %rmdir  %run  %save  %sc  %set_env  %store  %sx  %system  %tb  %time  %timeit  %unalias  %unload_ext  %who  %who_ls  %whos  %xdel  %xmode\n",
       "\n",
       "Available cell magics:\n",
       "%%!  %%HTML  %%SVG  %%bash  %%capture  %%debug  %%file  %%html  %%javascript  %%js  %%latex  %%markdown  %%perl  %%prun  %%pypy  %%python  %%python2  %%python3  %%ruby  %%script  %%sh  %%svg  %%sx  %%system  %%time  %%timeit  %%writefile\n",
       "\n",
       "Automagic is ON, % prefix IS NOT needed for line magics."
      ]
     },
     "execution_count": 1,
     "metadata": {},
     "output_type": "execute_result"
    }
   ],
   "source": [
    "%lsmagic"
   ]
  },
  {
   "cell_type": "code",
   "execution_count": 35,
   "id": "6bcc9b1f-d006-4ecb-a167-aaa6707549eb",
   "metadata": {},
   "outputs": [],
   "source": [
    "# %load __init__.py\n",
    "from .mock_lc import *\n",
    "from .correlation import *"
   ]
  },
  {
   "cell_type": "code",
   "execution_count": 37,
   "id": "31c1fd17-8cbe-4b63-a107-40d6ec476fd9",
   "metadata": {},
   "outputs": [],
   "source": [
    "%matplotlib inline"
   ]
  },
  {
   "cell_type": "code",
   "execution_count": 42,
   "id": "ec5052f1-dfd1-4b92-ae01-ba25287efec8",
   "metadata": {},
   "outputs": [
    {
     "data": {
      "text/plain": [
       "'%.3f'"
      ]
     },
     "execution_count": 42,
     "metadata": {},
     "output_type": "execute_result"
    }
   ],
   "source": [
    "%precision 3"
   ]
  },
  {
   "cell_type": "code",
   "execution_count": 40,
   "id": "704c74a4-d78d-44f0-b3b5-035ef8838ec4",
   "metadata": {},
   "outputs": [],
   "source": [
    "from math import pi"
   ]
  },
  {
   "cell_type": "code",
   "execution_count": 43,
   "id": "ed704ca2-ca0a-4661-91e5-c58cb0cc0d32",
   "metadata": {},
   "outputs": [
    {
     "data": {
      "text/plain": [
       "3.142"
      ]
     },
     "execution_count": 43,
     "metadata": {},
     "output_type": "execute_result"
    }
   ],
   "source": [
    "pi"
   ]
  },
  {
   "cell_type": "code",
   "execution_count": 44,
   "id": "d3b21489-80fc-4b16-89de-d49f661b2176",
   "metadata": {},
   "outputs": [
    {
     "data": {
      "text/plain": [
       "'/home/viktor/Documents/LSST/MAF/inkind/baseperiodicity/periodicity/utils'"
      ]
     },
     "execution_count": 44,
     "metadata": {},
     "output_type": "execute_result"
    }
   ],
   "source": [
    "%pwd"
   ]
  },
  {
   "cell_type": "code",
   "execution_count": 45,
   "id": "12b019d2-9a6f-49f4-b38c-dad96ca5a8b8",
   "metadata": {},
   "outputs": [
    {
     "name": "stdout",
     "output_type": "stream",
     "text": [
      "Using matplotlib backend: Qt5Agg\n",
      "Populating the interactive namespace from numpy and matplotlib\n"
     ]
    },
    {
     "name": "stderr",
     "output_type": "stream",
     "text": [
      "/home/viktor/anaconda3/lib/python3.8/site-packages/IPython/core/magics/pylab.py:159: UserWarning: pylab import has clobbered these variables: ['pi', 'TU', 'plotting', 'unique', 'time', 'array', 'test']\n",
      "`%matplotlib` prevents importing * from pylab and numpy\n",
      "  warn(\"pylab import has clobbered these variables: %s\"  % clobbered +\n"
     ]
    }
   ],
   "source": [
    "%pylab"
   ]
  },
  {
   "cell_type": "code",
   "execution_count": 46,
   "id": "8da1c461-f8a8-4a0f-8b36-fe22eda0c93f",
   "metadata": {},
   "outputs": [
    {
     "name": "stdout",
     "output_type": "stream",
     "text": [
      "CPU times: user 6 µs, sys: 1e+03 ns, total: 7 µs\n",
      "Wall time: 12.9 µs\n"
     ]
    },
    {
     "data": {
      "text/plain": [
       "59049"
      ]
     },
     "execution_count": 46,
     "metadata": {},
     "output_type": "execute_result"
    }
   ],
   "source": [
    "%time 3**10"
   ]
  },
  {
   "cell_type": "code",
   "execution_count": 38,
   "id": "a28c1795-afa9-4a8e-ac3b-8ec0720506f8",
   "metadata": {},
   "outputs": [
    {
     "name": "stdout",
     "output_type": "stream",
     "text": [
      "Requirement already satisfied: libwwz in /home/viktor/anaconda3/lib/python3.8/site-packages (1.2.1)\n",
      "Requirement already satisfied: joblib in /home/viktor/anaconda3/lib/python3.8/site-packages (from libwwz) (1.0.1)\n",
      "Requirement already satisfied: numpy in /home/viktor/anaconda3/lib/python3.8/site-packages (from libwwz) (1.20.1)\n",
      "Requirement already satisfied: matplotlib in /home/viktor/anaconda3/lib/python3.8/site-packages (from libwwz) (3.3.4)\n",
      "Requirement already satisfied: cycler>=0.10 in /home/viktor/anaconda3/lib/python3.8/site-packages (from matplotlib->libwwz) (0.10.0)\n",
      "Requirement already satisfied: pillow>=6.2.0 in /home/viktor/anaconda3/lib/python3.8/site-packages (from matplotlib->libwwz) (8.2.0)\n",
      "Requirement already satisfied: python-dateutil>=2.1 in /home/viktor/anaconda3/lib/python3.8/site-packages (from matplotlib->libwwz) (2.8.1)\n",
      "Requirement already satisfied: kiwisolver>=1.0.1 in /home/viktor/anaconda3/lib/python3.8/site-packages (from matplotlib->libwwz) (1.3.1)\n",
      "Requirement already satisfied: pyparsing!=2.0.4,!=2.1.2,!=2.1.6,>=2.0.3 in /home/viktor/anaconda3/lib/python3.8/site-packages (from matplotlib->libwwz) (2.4.7)\n",
      "Requirement already satisfied: six in /home/viktor/anaconda3/lib/python3.8/site-packages (from cycler>=0.10->matplotlib->libwwz) (1.15.0)\n",
      "Note: you may need to restart the kernel to use updated packages.\n"
     ]
    }
   ],
   "source": [
    "%pip install --user  libwwz"
   ]
  },
  {
   "cell_type": "code",
   "execution_count": null,
   "id": "d416a206-ebc9-418b-a443-b0a686d4efdb",
   "metadata": {},
   "outputs": [],
   "source": [
    "!pip install --user  libwwz"
   ]
  },
  {
   "cell_type": "code",
   "execution_count": null,
   "id": "c428ee56-2b93-4f25-9448-0afecb18f37b",
   "metadata": {},
   "outputs": [],
   "source": []
  },
  {
   "cell_type": "code",
   "execution_count": 22,
   "id": "0038cf4e-cf1d-4cf0-87a9-c5c2ab316c0f",
   "metadata": {},
   "outputs": [
    {
     "name": "stdout",
     "output_type": "stream",
     "text": [
      "   1: %lsmagic\n",
      "   2: %save\n",
      "   3: %save test.txt\n",
      "   4: %save 'viktor' test.txt\n",
      "   5: %quickref save\n",
      "   6: %quickrefsave\n",
      "   7: %quickref\n",
      "   8: help(save)\n",
      "   9: help('save;)\n",
      "  10: help('save')\n",
      "  11: %quickref\n",
      "  12: ?%save\n",
      "  13: %save text.txt\n",
      "  14: %save text.txt\n",
      "  15:\n",
      "%save text.txt \n",
      "import pandas from pd\n",
      "  16:\n",
      "%save text.txt \n",
      "from pandas import *\n",
      "  17:\n",
      "%save 'text.txt'\n",
      "from pandas import *\n",
      "  18: %history -n 4-6\n",
      "  19: %history -n 1-10\n",
      "  20:\n",
      "\n",
      "from pandas import *\n",
      "  21: %history -n 1-10\n",
      "  22: %history -n 1-100\n"
     ]
    }
   ],
   "source": [
    "%history -n 1-100"
   ]
  },
  {
   "cell_type": "code",
   "execution_count": 20,
   "id": "21a84e7f-33ae-4c03-a878-4b31382aadb3",
   "metadata": {},
   "outputs": [],
   "source": [
    "24110.54841 + 8640184.812866 TU + 0.093104TU2 - 6.2x10-6TU3 seconds "
   ]
  },
  {
   "cell_type": "code",
   "execution_count": null,
   "id": "78f27639-c010-466c-95d6-83505eeb922d",
   "metadata": {},
   "outputs": [],
   "source": [
    "TU = (JD-2451545.0)/36525 "
   ]
  },
  {
   "cell_type": "code",
   "execution_count": 23,
   "id": "3ae69be8-deeb-4a25-a851-104034a12659",
   "metadata": {},
   "outputs": [],
   "source": [
    "from astropy.time import Time"
   ]
  },
  {
   "cell_type": "code",
   "execution_count": 47,
   "id": "b1243a79-ea78-4d8f-824f-7f7b3a8a4455",
   "metadata": {},
   "outputs": [],
   "source": [
    "time = '2022-03-25T05:00:00'\n",
    "t = Time(time, format='isot', scale='utc')\n"
   ]
  },
  {
   "cell_type": "code",
   "execution_count": 48,
   "id": "b0458543-91fd-4e96-9fba-6d1edd39ce36",
   "metadata": {},
   "outputs": [
    {
     "name": "stdout",
     "output_type": "stream",
     "text": [
      "0.22227812000913041\n",
      "1944634.5897452687\n",
      "540\n",
      "10.576495754480675\n",
      "12\n",
      "10\n",
      "34.58974526884049\n"
     ]
    }
   ],
   "source": [
    "TU = (t.jd - 2451545.0)/36525 \n",
    "print(TU)\n",
    "S = 24110.54841 + 8640184.812866*TU + 0.093104*(TU**2) - 6.2*(10**(-6))*(TU**3)\n",
    "print(S)\n",
    "hour = int(S/(60*60))\n",
    "print( hour)\n",
    "minut = (S/(60*60) - int(S/3600))*60\n",
    "print(minut)\n",
    "sec = (minut - int(minut))*60\n",
    "print(hour%24)\n",
    "print(int(minut))\n",
    "print(sec)"
   ]
  },
  {
   "cell_type": "code",
   "execution_count": 12,
   "id": "72834732-3c8a-442e-a07a-aff90ba35da0",
   "metadata": {},
   "outputs": [
    {
     "data": {
      "text/plain": [
       "\u001b[0;31mDocstring:\u001b[0m\n",
       "Save a set of lines or a macro to a given filename.\n",
       "\n",
       "Usage:\n",
       "  %save [options] filename n1-n2 n3-n4 ... n5 .. n6 ...\n",
       "\n",
       "Options:\n",
       "\n",
       "  -r: use 'raw' input.  By default, the 'processed' history is used,\n",
       "  so that magics are loaded in their transformed version to valid\n",
       "  Python.  If this option is given, the raw input as typed as the\n",
       "  command line is used instead.\n",
       "  \n",
       "  -f: force overwrite.  If file exists, %save will prompt for overwrite\n",
       "  unless -f is given.\n",
       "\n",
       "  -a: append to the file instead of overwriting it.\n",
       "\n",
       "This function uses the same syntax as %history for input ranges,\n",
       "then saves the lines to the filename you specify.\n",
       "\n",
       "It adds a '.py' extension to the file if you don't do so yourself, and\n",
       "it asks for confirmation before overwriting existing files.\n",
       "\n",
       "If `-r` option is used, the default extension is `.ipy`.\n",
       "\u001b[0;31mFile:\u001b[0m      ~/anaconda3/lib/python3.8/site-packages/IPython/core/magics/code.py\n"
      ]
     },
     "metadata": {},
     "output_type": "display_data"
    }
   ],
   "source": [
    "?%save"
   ]
  },
  {
   "cell_type": "code",
   "execution_count": null,
   "id": "c26e0bf9-3fd6-4e72-a98f-37cd8cb13e33",
   "metadata": {},
   "outputs": [],
   "source": [
    "%quickref"
   ]
  },
  {
   "cell_type": "code",
   "execution_count": null,
   "id": "bda4d5f4-6a23-4def-a7a9-28b3b8db6b51",
   "metadata": {},
   "outputs": [],
   "source": []
  }
 ],
 "metadata": {
  "kernelspec": {
   "display_name": "Python 3",
   "language": "python",
   "name": "python3"
  },
  "language_info": {
   "codemirror_mode": {
    "name": "ipython",
    "version": 3
   },
   "file_extension": ".py",
   "mimetype": "text/x-python",
   "name": "python",
   "nbconvert_exporter": "python",
   "pygments_lexer": "ipython3",
   "version": "3.8.8"
  }
 },
 "nbformat": 4,
 "nbformat_minor": 5
}
