{
 "cells": [
  {
   "cell_type": "code",
   "execution_count": 1,
   "id": "5f2c414d-76bd-4dba-9281-a74e21e8b2ba",
   "metadata": {},
   "outputs": [],
   "source": [
    "\n",
    "def column(matrix, i):\n",
    "    return [row[i] for row in matrix]"
   ]
  },
  {
   "cell_type": "code",
   "execution_count": 2,
   "id": "513908cc-f188-409a-b0ca-84a9f2a401d1",
   "metadata": {},
   "outputs": [
    {
     "name": "stderr",
     "output_type": "stream",
     "text": [
      "\n",
      "WARNING: version mismatch between CFITSIO header (v4.000999999999999) and linked library (v4.01).\n",
      "\n",
      "\n",
      "WARNING: version mismatch between CFITSIO header (v4.000999999999999) and linked library (v4.01).\n",
      "\n",
      "\n",
      "WARNING: version mismatch between CFITSIO header (v4.000999999999999) and linked library (v4.01).\n",
      "\n"
     ]
    }
   ],
   "source": [
    "# imports\n",
    "import rubin_sim.maf as maf\n",
    "import os\n",
    "import numpy as np\n",
    "import math\n",
    "from rubin_sim.data import get_baseline\n",
    "from rubin_sim.maf import *\n",
    "from rubin_sim.utils import *\n",
    "import healpy as hp\n",
    "import matplotlib.pyplot as plt\n",
    "%matplotlib inline\n"
   ]
  },
  {
   "cell_type": "code",
   "execution_count": null,
   "id": "1f1b8fb1-3be5-490c-a2e6-25777fec0002",
   "metadata": {},
   "outputs": [],
   "source": [
    "result_opsims = np.loadtxt(open(\"test.csv\", \"rb\"), delimiter=\",\", skiprows=1)"
   ]
  }
 ],
 "metadata": {
  "kernelspec": {
   "display_name": "Python (rubin_sim)",
   "language": "python",
   "name": "rubin"
  },
  "language_info": {
   "codemirror_mode": {
    "name": "ipython",
    "version": 3
   },
   "file_extension": ".py",
   "mimetype": "text/x-python",
   "name": "python",
   "nbconvert_exporter": "python",
   "pygments_lexer": "ipython3",
   "version": "3.9.13"
  }
 },
 "nbformat": 4,
 "nbformat_minor": 5
}
